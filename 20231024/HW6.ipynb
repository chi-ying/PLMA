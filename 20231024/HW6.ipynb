{
  "nbformat": 4,
  "nbformat_minor": 0,
  "metadata": {
    "colab": {
      "provenance": []
    },
    "kernelspec": {
      "name": "python3",
      "display_name": "Python 3"
    },
    "language_info": {
      "name": "python"
    }
  },
  "cells": [
    {
      "cell_type": "code",
      "execution_count": 8,
      "metadata": {
        "colab": {
          "base_uri": "https://localhost:8080/"
        },
        "id": "VqWQ-8GzREc8",
        "outputId": "3c91f4b9-b173-4fa0-bb85-bddd0c8e08e5"
      },
      "outputs": [
        {
          "output_type": "stream",
          "name": "stdout",
          "text": [
            "15\n",
            "         *\n",
            "        ***\n",
            "       *****\n",
            "      *******\n",
            "     *********\n",
            "    ***********\n",
            "   *************\n",
            "  ***************\n",
            " *****************\n",
            "*******************\n",
            "        ***\n",
            "        ***\n",
            "        ***\n",
            "        ***\n",
            "        ***\n"
          ]
        }
      ],
      "source": [
        "height=int(input())\n",
        "def make_a_tree(height):\n",
        "  for i in range(height):\n",
        "    if i >=(height-5):\n",
        "      print(\" \"*(height-7)+\"*\"*3)\n",
        "    else:\n",
        "      print(\" \"*(height-6-i)+\"*\"*(i+1),end=\"\")\n",
        "      print(\"*\"*i)\n",
        "make_a_tree(height)"
      ]
    },
    {
      "cell_type": "code",
      "source": [
        "height=input(\"請輸入身高（公分）：\")\n",
        "weight=input(\"請輸入體重（公斤）：\")\n",
        "def calculate_bmi(height,weight):\n",
        "  輸入內容錯誤 = \"輸入內容錯誤\"\n",
        "  try:\n",
        "    height=int(height)\n",
        "    weight=int(weight)\n",
        "    result=weight/(0.01*height)/(0.01*height)\n",
        "    if result<18.5:\n",
        "      return \"BMI:{}\\n體位：過輕\".format(result)\n",
        "    elif 18.5 <= result<24:\n",
        "      return \"BMI:{}\\n體位：適中\".format(result)\n",
        "    elif 24 <= result <27:\n",
        "      return \"BMI:{}\\n體位：過重\".format(result)\n",
        "    else:\n",
        "      return \"BMI:{}\\n體位：肥胖\".format(result)\n",
        "  except:\n",
        "    return 輸入內容錯誤\n",
        "print(calculate_bmi(height,weight))"
      ],
      "metadata": {
        "colab": {
          "base_uri": "https://localhost:8080/"
        },
        "id": "jTV3CVxDSp4R",
        "outputId": "2d86f228-5855-4baa-ebcf-b52e2b3dd994"
      },
      "execution_count": 9,
      "outputs": [
        {
          "output_type": "stream",
          "name": "stdout",
          "text": [
            "請輸入身高（公分）：166\n",
            "請輸入體重（公斤）：48\n",
            "BMI:17.419073885905064\n",
            "體位：過輕\n"
          ]
        }
      ]
    },
    {
      "cell_type": "code",
      "source": [
        "height=input(\"請輸入身高（公分）：\")\n",
        "weight=input(\"請輸入體重（公斤）：\")\n",
        "def calculate_bmi(height,weight):\n",
        "  輸入內容錯誤 = \"輸入內容錯誤\"\n",
        "  try:\n",
        "    height=int(height)\n",
        "    weight=int(weight)\n",
        "    result=weight/(0.01*height)/(0.01*height)\n",
        "    if result<18.5:\n",
        "      return \"BMI:{}\\n體位：過輕\".format(result)\n",
        "    elif 18.5 <= result<24:\n",
        "      return \"BMI:{}\\n體位：適中\".format(result)\n",
        "    elif 24 <= result <27:\n",
        "      return \"BMI:{}\\n體位：過重\".format(result)\n",
        "    else:\n",
        "      return \"BMI:{}\\n體位：肥胖\".format(result)\n",
        "  except:\n",
        "    return 輸入內容錯誤\n",
        "print(calculate_bmi(height,weight))"
      ],
      "metadata": {
        "colab": {
          "base_uri": "https://localhost:8080/"
        },
        "id": "UtmxpD_4XeqL",
        "outputId": "717ef4b2-5818-459e-90cb-74d284febb7b"
      },
      "execution_count": 10,
      "outputs": [
        {
          "output_type": "stream",
          "name": "stdout",
          "text": [
            "請輸入身高（公分）：165\n",
            "請輸入體重（公斤）：a\n",
            "輸入內容錯誤\n"
          ]
        }
      ]
    }
  ]
}