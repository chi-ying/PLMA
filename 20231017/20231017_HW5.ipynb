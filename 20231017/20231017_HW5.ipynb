{
  "nbformat": 4,
  "nbformat_minor": 0,
  "metadata": {
    "colab": {
      "provenance": []
    },
    "kernelspec": {
      "name": "python3",
      "display_name": "Python 3"
    },
    "language_info": {
      "name": "python"
    }
  },
  "cells": [
    {
      "cell_type": "code",
      "execution_count": 2,
      "metadata": {
        "colab": {
          "base_uri": "https://localhost:8080/"
        },
        "id": "24z0oggtaFTu",
        "outputId": "a4bd7571-5425-4936-b616-c25fabc5abc2"
      },
      "outputs": [
        {
          "output_type": "stream",
          "name": "stdout",
          "text": [
            "         *\n",
            "        ***\n",
            "       *****\n",
            "      *******\n",
            "     *********\n",
            "    ***********\n",
            "   *************\n",
            "  ***************\n",
            " *****************\n",
            "        ***\n",
            "        ***\n",
            "        ***\n",
            "        ***\n",
            "        ***\n"
          ]
        }
      ],
      "source": [
        "height=9\n",
        "star=1\n",
        "for i in range(height):\n",
        "    print((\" \"*(height-i))+(\"*\" * star))\n",
        "    star += 2\n",
        "for j in range(5):\n",
        "    print(\" \"*8+\"*\"*3)"
      ]
    },
    {
      "cell_type": "code",
      "source": [
        "import random\n",
        "answer = random.sample(range(1, 10), 4)\n",
        "print(answer)\n",
        "a=b=n=0\n",
        "num=0\n",
        "while a!=4:\n",
        "  trial=list(input(\"輸入四個數字（不會重複）\"))\n",
        "  if len(trial)>4:\n",
        "    trial=input(\"輸入字數過多，請輸入四個數字(不會重複)\")\n",
        "  elif len(trial)<4:\n",
        "    trial=input(\"輸入字數過少，請輸入四個數字(不會重複)\")\n",
        "  num+=1\n",
        "  a=b=n=0\n",
        "  for i in trial:\n",
        "    if int(trial[n])==answer[n]:\n",
        "      a+=1\n",
        "    elif int(i) in answer:\n",
        "      b+=1\n",
        "    n+=1\n",
        "  for i in range(4):\n",
        "    print(trial[i],end=\" \")\n",
        "  print(\" \",f\"{a}A{b}B\")\n",
        "if a==4:\n",
        "  print(f\"答對了，總共猜了{num}次\")"
      ],
      "metadata": {
        "colab": {
          "base_uri": "https://localhost:8080/"
        },
        "id": "_hP6Sn-5hfxN",
        "outputId": "3f44214f-3b54-44e8-f0dc-e21481ee5665"
      },
      "execution_count": 8,
      "outputs": [
        {
          "output_type": "stream",
          "name": "stdout",
          "text": [
            "[9, 2, 4, 1]\n",
            "輸入四個數字（不會重複）12568\n",
            "輸入字數過多，請輸入四個數字(不會重複)9258\n",
            "9 2 5 8   2A0B\n",
            "輸入四個數字（不會重複）3461\n",
            "3 4 6 1   1A1B\n",
            "輸入四個數字（不會重複）1346\n",
            "1 3 4 6   1A1B\n",
            "輸入四個數字（不會重複）9241\n",
            "9 2 4 1   4A0B\n",
            "答對了，總共猜了4次\n"
          ]
        }
      ]
    }
  ]
}