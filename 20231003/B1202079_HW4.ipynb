{
  "nbformat": 4,
  "nbformat_minor": 0,
  "metadata": {
    "colab": {
      "provenance": []
    },
    "kernelspec": {
      "name": "python3",
      "display_name": "Python 3"
    },
    "language_info": {
      "name": "python"
    }
  },
  "cells": [
    {
      "cell_type": "code",
      "execution_count": null,
      "metadata": {
        "colab": {
          "base_uri": "https://localhost:8080/"
        },
        "id": "G_Y3KmjQisRu",
        "outputId": "979c25c6-46ce-4e1c-c67f-434545758142"
      },
      "outputs": [
        {
          "output_type": "stream",
          "name": "stdout",
          "text": [
            "10 50 30 20 100\n",
            "33.333333333333336\n"
          ]
        }
      ],
      "source": [
        "a=input()\n",
        "a=a.split(' ')\n",
        "a=list(map(int,a))\n",
        "a.remove(max(a))\n",
        "a.remove(min(a))\n",
        "print(sum(a)/len(a))"
      ]
    },
    {
      "cell_type": "code",
      "source": [
        "a=int(input())\n",
        "b=int(input())\n",
        "k=str(input())\n",
        "if k== \"+\":\n",
        "  print(a+b)\n",
        "elif k== \"-\":\n",
        "  print(a-b)\n",
        "elif k== \"*\":\n",
        "  print(a*b)\n",
        "elif k== \"/\":\n",
        "  print(a/b)"
      ],
      "metadata": {
        "colab": {
          "base_uri": "https://localhost:8080/"
        },
        "id": "zJkWJxP8jVqB",
        "outputId": "2e614607-acf1-42f0-834f-8b6c3b6391dd"
      },
      "execution_count": null,
      "outputs": [
        {
          "output_type": "stream",
          "name": "stdout",
          "text": [
            "3\n",
            "5\n",
            "*\n",
            "15\n"
          ]
        }
      ]
    },
    {
      "cell_type": "code",
      "source": [
        "y=int(input(\"請輸入年份\"))\n",
        "if y>1582:\n",
        "  if y%400==0:\n",
        "    print(\"是閏年\")\n",
        "  elif y%4==0 and y%100!=0:\n",
        "    print(\"是閏年\")\n",
        "  else:\n",
        "    print(\"是平年\")\n",
        "elif y%4==0:\n",
        "  print(\"是閏年\")\n",
        "else:\n",
        "  print(\"是平年\")"
      ],
      "metadata": {
        "id": "Vvt6uY35nyeH",
        "colab": {
          "base_uri": "https://localhost:8080/"
        },
        "outputId": "8dc51c25-f3c0-46d9-d0b6-7dc0524bf2ce"
      },
      "execution_count": null,
      "outputs": [
        {
          "output_type": "stream",
          "name": "stdout",
          "text": [
            "請輸入年份2023\n",
            "是平年\n"
          ]
        }
      ]
    }
  ]
}