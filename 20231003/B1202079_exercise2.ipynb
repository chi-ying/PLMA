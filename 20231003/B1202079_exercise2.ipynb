{
  "nbformat": 4,
  "nbformat_minor": 0,
  "metadata": {
    "colab": {
      "provenance": []
    },
    "kernelspec": {
      "name": "python3",
      "display_name": "Python 3"
    },
    "language_info": {
      "name": "python"
    }
  },
  "cells": [
    {
      "cell_type": "code",
      "execution_count": null,
      "metadata": {
        "colab": {
          "base_uri": "https://localhost:8080/"
        },
        "id": "vH0B8UXrdEWN",
        "outputId": "a14445df-d584-4c7d-b3fb-99697c1043fd"
      },
      "outputs": [
        {
          "output_type": "stream",
          "name": "stdout",
          "text": [
            "A\n",
            "['K', 'H', 'U']\n"
          ]
        }
      ],
      "source": [
        "a=\"C,B,A\"\n",
        "b=[\"F\",\"G\",\"H\"]\n",
        "a_list=a.split(\",\")\n",
        "a_list[0]=\"K\"\n",
        "a_list=a_list+b\n",
        "print(a_list.pop(2))\n",
        "del a_list[1:4]\n",
        "a_list.append(\"U\")\n",
        "c=a_list\n",
        "print(c)\n"
      ]
    },
    {
      "cell_type": "code",
      "source": [
        "h=float(input(\"請輸入您的身高(公尺)\"))\n",
        "w=float(input(\"請輸入您的體重(公斤)\"))\n",
        "BMI=round(w/(h*h),3)\n",
        "print(BMI)\n",
        "if BMI<18.5:\n",
        "  print(\"過輕\")\n",
        "elif BMI<24:\n",
        "  print(\"適中\")\n",
        "elif BMI<27:\n",
        "  print(\"過重\")\n",
        "else:\n",
        "  print(\"肥胖\")"
      ],
      "metadata": {
        "colab": {
          "base_uri": "https://localhost:8080/"
        },
        "id": "NsT_DbO8nZmQ",
        "outputId": "5ad2ef86-525a-411c-f59b-5e586715584e"
      },
      "execution_count": null,
      "outputs": [
        {
          "output_type": "stream",
          "name": "stdout",
          "text": [
            "請輸入您的身高(公尺)1.66\n",
            "請輸入您的體重(公斤)50\n",
            "18.145\n",
            "過輕\n"
          ]
        }
      ]
    }
  ]
}